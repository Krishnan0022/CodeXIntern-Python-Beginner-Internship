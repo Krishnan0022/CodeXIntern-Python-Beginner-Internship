{
 "cells": [
  {
   "cell_type": "code",
   "execution_count": 1,
   "id": "d00e9ebd-75d1-40bb-b006-a7e540d6e1ac",
   "metadata": {},
   "outputs": [
    {
     "name": "stdout",
     "output_type": "stream",
     "text": [
      "\n",
      "Matrix Operations Tool\n",
      "1. Add Matrices\n",
      "2. Subtract Matrices\n",
      "3. Multiply Matrices\n",
      "4. Transpose Matrix\n",
      "5. Calculate Determinant\n",
      "6. Calculate Inverse\n",
      "7. View Stored Matrices\n",
      "8. Clear Stored Matrices\n",
      "9. Exit\n"
     ]
    },
    {
     "name": "stdin",
     "output_type": "stream",
     "text": [
      "\n",
      "Enter your choice (1-9):  1\n"
     ]
    },
    {
     "name": "stdout",
     "output_type": "stream",
     "text": [
      "Enter the first matrix:\n"
     ]
    },
    {
     "name": "stdin",
     "output_type": "stream",
     "text": [
      "Enter the number of rows:  2\n",
      "Enter the number of columns:  2\n"
     ]
    },
    {
     "name": "stdout",
     "output_type": "stream",
     "text": [
      "Enter the elements row by row (2x2):\n"
     ]
    },
    {
     "name": "stdin",
     "output_type": "stream",
     "text": [
      " 1 2\n",
      " 2\n"
     ]
    },
    {
     "name": "stdout",
     "output_type": "stream",
     "text": [
      "Input Error: Each row must have exactly 2 elements.\n",
      "\n",
      "Matrix Operations Tool\n",
      "1. Add Matrices\n",
      "2. Subtract Matrices\n",
      "3. Multiply Matrices\n",
      "4. Transpose Matrix\n",
      "5. Calculate Determinant\n",
      "6. Calculate Inverse\n",
      "7. View Stored Matrices\n",
      "8. Clear Stored Matrices\n",
      "9. Exit\n"
     ]
    },
    {
     "name": "stdin",
     "output_type": "stream",
     "text": [
      "\n",
      "Enter your choice (1-9):  1\n"
     ]
    },
    {
     "name": "stdout",
     "output_type": "stream",
     "text": [
      "Enter the first matrix:\n"
     ]
    },
    {
     "name": "stdin",
     "output_type": "stream",
     "text": [
      "Enter the number of rows:  2\n",
      "Enter the number of columns:  2\n"
     ]
    },
    {
     "name": "stdout",
     "output_type": "stream",
     "text": [
      "Enter the elements row by row (2x2):\n"
     ]
    },
    {
     "name": "stdin",
     "output_type": "stream",
     "text": [
      " 1 2 \n",
      " 3 4\n"
     ]
    },
    {
     "name": "stdout",
     "output_type": "stream",
     "text": [
      "Enter the second matrix:\n"
     ]
    },
    {
     "name": "stdin",
     "output_type": "stream",
     "text": [
      "Enter the number of rows:  1 2\n"
     ]
    },
    {
     "name": "stdout",
     "output_type": "stream",
     "text": [
      "Input Error: invalid literal for int() with base 10: '1 2'\n",
      "\n",
      "Matrix Operations Tool\n",
      "1. Add Matrices\n",
      "2. Subtract Matrices\n",
      "3. Multiply Matrices\n",
      "4. Transpose Matrix\n",
      "5. Calculate Determinant\n",
      "6. Calculate Inverse\n",
      "7. View Stored Matrices\n",
      "8. Clear Stored Matrices\n",
      "9. Exit\n"
     ]
    },
    {
     "name": "stdin",
     "output_type": "stream",
     "text": [
      "\n",
      "Enter your choice (1-9):  1\n"
     ]
    },
    {
     "name": "stdout",
     "output_type": "stream",
     "text": [
      "Enter the first matrix:\n"
     ]
    },
    {
     "name": "stdin",
     "output_type": "stream",
     "text": [
      "Enter the number of rows:  2\n",
      "Enter the number of columns:  2\n"
     ]
    },
    {
     "name": "stdout",
     "output_type": "stream",
     "text": [
      "Enter the elements row by row (2x2):\n"
     ]
    },
    {
     "name": "stdin",
     "output_type": "stream",
     "text": [
      " 1 2\n",
      " 3 4\n"
     ]
    },
    {
     "name": "stdout",
     "output_type": "stream",
     "text": [
      "Enter the second matrix:\n"
     ]
    },
    {
     "name": "stdin",
     "output_type": "stream",
     "text": [
      "Enter the number of rows:  2\n",
      "Enter the number of columns:  2\n"
     ]
    },
    {
     "name": "stdout",
     "output_type": "stream",
     "text": [
      "Enter the elements row by row (2x2):\n"
     ]
    },
    {
     "name": "stdin",
     "output_type": "stream",
     "text": [
      " 1 2 \n",
      " 3 4 \n"
     ]
    },
    {
     "name": "stdout",
     "output_type": "stream",
     "text": [
      "Result of Addition:\n",
      "2.00\t4.00\n",
      "6.00\t8.00\n",
      "\n",
      "Matrix Operations Tool\n",
      "1. Add Matrices\n",
      "2. Subtract Matrices\n",
      "3. Multiply Matrices\n",
      "4. Transpose Matrix\n",
      "5. Calculate Determinant\n",
      "6. Calculate Inverse\n",
      "7. View Stored Matrices\n",
      "8. Clear Stored Matrices\n",
      "9. Exit\n"
     ]
    },
    {
     "name": "stdin",
     "output_type": "stream",
     "text": [
      "\n",
      "Enter your choice (1-9):  2\n"
     ]
    },
    {
     "name": "stdout",
     "output_type": "stream",
     "text": [
      "Enter the first matrix:\n"
     ]
    },
    {
     "name": "stdin",
     "output_type": "stream",
     "text": [
      "Enter the number of rows:  2\n",
      "Enter the number of columns:  2\n"
     ]
    },
    {
     "name": "stdout",
     "output_type": "stream",
     "text": [
      "Enter the elements row by row (2x2):\n"
     ]
    },
    {
     "name": "stdin",
     "output_type": "stream",
     "text": [
      " 1 1\n",
      " 1 1\n"
     ]
    },
    {
     "name": "stdout",
     "output_type": "stream",
     "text": [
      "Enter the second matrix:\n"
     ]
    },
    {
     "name": "stdin",
     "output_type": "stream",
     "text": [
      "Enter the number of rows:  2\n",
      "Enter the number of columns:  2\n"
     ]
    },
    {
     "name": "stdout",
     "output_type": "stream",
     "text": [
      "Enter the elements row by row (2x2):\n"
     ]
    },
    {
     "name": "stdin",
     "output_type": "stream",
     "text": [
      " 1 1\n",
      " 1 1\n"
     ]
    },
    {
     "name": "stdout",
     "output_type": "stream",
     "text": [
      "Result of Subtraction:\n",
      "0.00\t0.00\n",
      "0.00\t0.00\n",
      "\n",
      "Matrix Operations Tool\n",
      "1. Add Matrices\n",
      "2. Subtract Matrices\n",
      "3. Multiply Matrices\n",
      "4. Transpose Matrix\n",
      "5. Calculate Determinant\n",
      "6. Calculate Inverse\n",
      "7. View Stored Matrices\n",
      "8. Clear Stored Matrices\n",
      "9. Exit\n"
     ]
    },
    {
     "name": "stdin",
     "output_type": "stream",
     "text": [
      "\n",
      "Enter your choice (1-9):  3\n"
     ]
    },
    {
     "name": "stdout",
     "output_type": "stream",
     "text": [
      "Enter the first matrix:\n"
     ]
    },
    {
     "name": "stdin",
     "output_type": "stream",
     "text": [
      "Enter the number of rows:  2\n",
      "Enter the number of columns:  2\n"
     ]
    },
    {
     "name": "stdout",
     "output_type": "stream",
     "text": [
      "Enter the elements row by row (2x2):\n"
     ]
    },
    {
     "name": "stdin",
     "output_type": "stream",
     "text": [
      " 1 2\n",
      " 3 4\n"
     ]
    },
    {
     "name": "stdout",
     "output_type": "stream",
     "text": [
      "Enter the second matrix:\n"
     ]
    },
    {
     "name": "stdin",
     "output_type": "stream",
     "text": [
      "Enter the number of rows:  2\n",
      "Enter the number of columns:  2\n"
     ]
    },
    {
     "name": "stdout",
     "output_type": "stream",
     "text": [
      "Enter the elements row by row (2x2):\n"
     ]
    },
    {
     "name": "stdin",
     "output_type": "stream",
     "text": [
      " 5 6\n",
      " 3 4\n"
     ]
    },
    {
     "name": "stdout",
     "output_type": "stream",
     "text": [
      "Result of Multiplication:\n",
      "11.00\t14.00\n",
      "27.00\t34.00\n",
      "\n",
      "Matrix Operations Tool\n",
      "1. Add Matrices\n",
      "2. Subtract Matrices\n",
      "3. Multiply Matrices\n",
      "4. Transpose Matrix\n",
      "5. Calculate Determinant\n",
      "6. Calculate Inverse\n",
      "7. View Stored Matrices\n",
      "8. Clear Stored Matrices\n",
      "9. Exit\n"
     ]
    },
    {
     "name": "stdin",
     "output_type": "stream",
     "text": [
      "\n",
      "Enter your choice (1-9):  4\n"
     ]
    },
    {
     "name": "stdout",
     "output_type": "stream",
     "text": [
      "Enter the matrix to transpose:\n"
     ]
    },
    {
     "name": "stdin",
     "output_type": "stream",
     "text": [
      "Enter the number of rows:  2\n",
      "Enter the number of columns:  1\n"
     ]
    },
    {
     "name": "stdout",
     "output_type": "stream",
     "text": [
      "Enter the elements row by row (2x1):\n"
     ]
    },
    {
     "name": "stdin",
     "output_type": "stream",
     "text": [
      " 1 2\n"
     ]
    },
    {
     "name": "stdout",
     "output_type": "stream",
     "text": [
      "Input Error: Each row must have exactly 1 elements.\n",
      "\n",
      "Matrix Operations Tool\n",
      "1. Add Matrices\n",
      "2. Subtract Matrices\n",
      "3. Multiply Matrices\n",
      "4. Transpose Matrix\n",
      "5. Calculate Determinant\n",
      "6. Calculate Inverse\n",
      "7. View Stored Matrices\n",
      "8. Clear Stored Matrices\n",
      "9. Exit\n"
     ]
    },
    {
     "name": "stdin",
     "output_type": "stream",
     "text": [
      "\n",
      "Enter your choice (1-9):  7\n"
     ]
    },
    {
     "name": "stdout",
     "output_type": "stream",
     "text": [
      "No matrices stored.\n",
      "\n",
      "Matrix Operations Tool\n",
      "1. Add Matrices\n",
      "2. Subtract Matrices\n",
      "3. Multiply Matrices\n",
      "4. Transpose Matrix\n",
      "5. Calculate Determinant\n",
      "6. Calculate Inverse\n",
      "7. View Stored Matrices\n",
      "8. Clear Stored Matrices\n",
      "9. Exit\n"
     ]
    },
    {
     "name": "stdin",
     "output_type": "stream",
     "text": [
      "\n",
      "Enter your choice (1-9):  4\n"
     ]
    },
    {
     "name": "stdout",
     "output_type": "stream",
     "text": [
      "Enter the matrix to transpose:\n"
     ]
    },
    {
     "name": "stdin",
     "output_type": "stream",
     "text": [
      "Enter the number of rows:  2\n",
      "Enter the number of columns:  2\n"
     ]
    },
    {
     "name": "stdout",
     "output_type": "stream",
     "text": [
      "Enter the elements row by row (2x2):\n"
     ]
    },
    {
     "name": "stdin",
     "output_type": "stream",
     "text": [
      " 1 56\n",
      " 78 45\n"
     ]
    },
    {
     "name": "stdout",
     "output_type": "stream",
     "text": [
      "Transpose of the Matrix:\n",
      "1.00\t78.00\n",
      "56.00\t45.00\n",
      "\n",
      "Matrix Operations Tool\n",
      "1. Add Matrices\n",
      "2. Subtract Matrices\n",
      "3. Multiply Matrices\n",
      "4. Transpose Matrix\n",
      "5. Calculate Determinant\n",
      "6. Calculate Inverse\n",
      "7. View Stored Matrices\n",
      "8. Clear Stored Matrices\n",
      "9. Exit\n"
     ]
    },
    {
     "name": "stdin",
     "output_type": "stream",
     "text": [
      "\n",
      "Enter your choice (1-9):  9\n"
     ]
    },
    {
     "name": "stdout",
     "output_type": "stream",
     "text": [
      "Exiting the Matrix Operations Tool. Goodbye!\n"
     ]
    }
   ],
   "source": [
    "import numpy as np\n",
    "\n",
    "stored_matrices = {}\n",
    "\n",
    "def display_menu():\n",
    "    print(\"\\nMatrix Operations Tool\")\n",
    "    print(\"1. Add Matrices\")\n",
    "    print(\"2. Subtract Matrices\")\n",
    "    print(\"3. Multiply Matrices\")\n",
    "    print(\"4. Transpose Matrix\")\n",
    "    print(\"5. Calculate Determinant\")\n",
    "    print(\"6. Calculate Inverse\")\n",
    "    print(\"7. View Stored Matrices\")\n",
    "    print(\"8. Clear Stored Matrices\")\n",
    "    print(\"9. Exit\")\n",
    "\n",
    "def format_matrix(matrix):\n",
    "    return \"\\n\".join([\"\\t\".join(map(\"{:.2f}\".format, row)) for row in matrix])\n",
    "\n",
    "def get_matrix(prompt, save_key=None):\n",
    "    print(prompt)\n",
    "    rows = int(input(\"Enter the number of rows: \"))\n",
    "    cols = int(input(\"Enter the number of columns: \"))\n",
    "    print(f\"Enter the elements row by row ({rows}x{cols}):\")\n",
    "    elements = []\n",
    "    for _ in range(rows):\n",
    "        row = list(map(float, input().split()))\n",
    "        if len(row) != cols:\n",
    "            raise ValueError(f\"Each row must have exactly {cols} elements.\")\n",
    "        elements.append(row)\n",
    "    matrix = np.array(elements)\n",
    "    if save_key:\n",
    "        stored_matrices[save_key] = matrix\n",
    "    return matrix\n",
    "\n",
    "def view_matrices():\n",
    "    if not stored_matrices:\n",
    "        print(\"No matrices stored.\")\n",
    "        return\n",
    "    print(\"\\nStored Matrices:\")\n",
    "    for key, matrix in stored_matrices.items():\n",
    "        print(f\"{key}:\\n{format_matrix(matrix)}\\n\")\n",
    "\n",
    "def clear_matrices():\n",
    "    stored_matrices.clear()\n",
    "    print(\"All stored matrices have been cleared.\")\n",
    "\n",
    "def main():\n",
    "    while True:\n",
    "        display_menu()\n",
    "        choice = input(\"\\nEnter your choice (1-9): \")\n",
    "\n",
    "        try:\n",
    "            if choice == \"1\":\n",
    "                matrix1 = get_matrix(\"Enter the first matrix:\")\n",
    "                matrix2 = get_matrix(\"Enter the second matrix:\")\n",
    "                if matrix1.shape != matrix2.shape:\n",
    "                    print(\"Error: Matrices must have the same dimensions for addition.\")\n",
    "                else:\n",
    "                    result = matrix1 + matrix2\n",
    "                    print(\"Result of Addition:\")\n",
    "                    print(format_matrix(result))\n",
    "\n",
    "            elif choice == \"2\":\n",
    "                matrix1 = get_matrix(\"Enter the first matrix:\")\n",
    "                matrix2 = get_matrix(\"Enter the second matrix:\")\n",
    "                if matrix1.shape != matrix2.shape:\n",
    "                    print(\"Error: Matrices must have the same dimensions for subtraction.\")\n",
    "                else:\n",
    "                    result = matrix1 - matrix2\n",
    "                    print(\"Result of Subtraction:\")\n",
    "                    print(format_matrix(result))\n",
    "\n",
    "            elif choice == \"3\":\n",
    "                matrix1 = get_matrix(\"Enter the first matrix:\")\n",
    "                matrix2 = get_matrix(\"Enter the second matrix:\")\n",
    "                if matrix1.shape[1] != matrix2.shape[0]:\n",
    "                    print(\"Error: The number of columns of the first matrix must equal the number of rows of the second matrix.\")\n",
    "                else:\n",
    "                    result = np.dot(matrix1, matrix2)\n",
    "                    print(\"Result of Multiplication:\")\n",
    "                    print(format_matrix(result))\n",
    "\n",
    "            elif choice == \"4\":\n",
    "                matrix = get_matrix(\"Enter the matrix to transpose:\")\n",
    "                result = matrix.T\n",
    "                print(\"Transpose of the Matrix:\")\n",
    "                print(format_matrix(result))\n",
    "\n",
    "            elif choice == \"5\":\n",
    "                matrix = get_matrix(\"Enter the square matrix to calculate determinant:\")\n",
    "                if matrix.shape[0] != matrix.shape[1]:\n",
    "                    print(\"Error: Determinant can only be calculated for square matrices.\")\n",
    "                else:\n",
    "                    determinant = np.linalg.det(matrix)\n",
    "                    print(\"Determinant of the Matrix:\")\n",
    "                    print(f\"{determinant:.2f}\")\n",
    "\n",
    "            elif choice == \"6\":\n",
    "                matrix = get_matrix(\"Enter the square matrix to calculate inverse:\")\n",
    "                if matrix.shape[0] != matrix.shape[1]:\n",
    "                    print(\"Error: Inverse can only be calculated for square matrices.\")\n",
    "                elif np.linalg.det(matrix) == 0:\n",
    "                    print(\"Error: Singular matrices do not have an inverse.\")\n",
    "                else:\n",
    "                    result = np.linalg.inv(matrix)\n",
    "                    print(\"Inverse of the Matrix:\")\n",
    "                    print(format_matrix(result))\n",
    "\n",
    "            elif choice == \"7\":\n",
    "                view_matrices()\n",
    "\n",
    "            elif choice == \"8\":\n",
    "                clear_matrices()\n",
    "\n",
    "            elif choice == \"9\":\n",
    "                print(\"Exiting the Matrix Operations Tool. Goodbye!\")\n",
    "                break\n",
    "\n",
    "            else:\n",
    "                print(\"Invalid choice. Please select a valid option.\")\n",
    "\n",
    "        except ValueError as e:\n",
    "            print(f\"Input Error: {e}\")\n",
    "        except Exception as e:\n",
    "            print(f\"An error occurred: {e}\")\n",
    "\n",
    "if __name__ == \"__main__\":\n",
    "    main()\n"
   ]
  },
  {
   "cell_type": "code",
   "execution_count": null,
   "id": "c20810a7-04f0-4e59-bb65-55987965f54c",
   "metadata": {},
   "outputs": [],
   "source": []
  }
 ],
 "metadata": {
  "kernelspec": {
   "display_name": "Python 3 (ipykernel)",
   "language": "python",
   "name": "python3"
  },
  "language_info": {
   "codemirror_mode": {
    "name": "ipython",
    "version": 3
   },
   "file_extension": ".py",
   "mimetype": "text/x-python",
   "name": "python",
   "nbconvert_exporter": "python",
   "pygments_lexer": "ipython3",
   "version": "3.12.7"
  }
 },
 "nbformat": 4,
 "nbformat_minor": 5
}
