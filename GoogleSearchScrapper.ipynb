{
 "cells": [
  {
   "cell_type": "code",
   "execution_count": 24,
   "id": "5bc875cf-2bbb-44c7-b3b8-07d6b1ca7c13",
   "metadata": {},
   "outputs": [
    {
     "name": "stdout",
     "output_type": "stream",
     "text": [
      "Results saved to 'google_search_results.csv'\n",
      "1.  - https://builtin.com/articles/selenium-web-scraping\n",
      "2.  - https://www.linkedin.com/pulse/beautiful-soup-scrapy-selenium-best-tool-python-web-rutam-bhagat-m2jhf#:~:text=Let's%20recap%3A%20Beautiful%20Soup%20is,%2Dscale%2C%20concurrent%20data%20extraction.\n",
      "3.  - https://builtin.com/data-science/python-web-scraping#:~:text=Yes.,a%20few%20lines%20of%20code.\n",
      "4.  - https://brightdata.com/blog/how-tos/web-scraping-with-python\n"
     ]
    }
   ],
   "source": [
    "from selenium import webdriver\n",
    "from selenium.webdriver.common.by import By\n",
    "from selenium.webdriver.common.keys import Keys\n",
    "import pandas as pd\n",
    "import time\n",
    "\n",
    "def google_search_scraper(query, max_results=10):\n",
    "    options = webdriver.ChromeOptions()\n",
    "    options.add_argument(\"--headless\")\n",
    "    options.add_argument(\"--no-sandbox\")\n",
    "    options.add_argument(\"--disable-dev-shm-usage\")\n",
    "    \n",
    "    driver = webdriver.Chrome(options=options)\n",
    "    driver.get(\"https://www.google.com\")\n",
    "    \n",
    "    search_box = driver.find_element(By.NAME, \"q\")\n",
    "    search_box.send_keys(query)\n",
    "    search_box.send_keys(Keys.RETURN)\n",
    "    \n",
    "    time.sleep(2)\n",
    "    \n",
    "    results = []\n",
    "    search_results = driver.find_elements(By.XPATH, \"//div[@class='tF2Cxc']\")\n",
    "    \n",
    "    for result in search_results[:max_results]:\n",
    "        try:\n",
    "            title = result.find_element(By.XPATH, \".//h3\").text\n",
    "            link = result.find_element(By.XPATH, \".//a\").get_attribute(\"href\")\n",
    "            snippet = result.find_element(By.XPATH, \".//div[@class='IsZvec']\").text\n",
    "            results.append({\"Title\": title, \"Link\": link, \"Snippet\": snippet})\n",
    "        except Exception as e:\n",
    "            print(f\"Error extracting result: {e}\")\n",
    "    \n",
    "    driver.quit()\n",
    "    \n",
    "    df = pd.DataFrame(results)\n",
    "    df.to_csv(\"google_search_results.csv\", index=False)\n",
    "    print(f\"Results saved to 'google_search_results.csv'\")\n",
    "    \n",
    "    return results\n",
    "\n",
    "query = \"Python web scraping with Selenium\"\n",
    "results = google_search_scraper(query)\n",
    "\n",
    "for idx, result in enumerate(results):\n",
    "    print(f\"{idx + 1}. {result['Title']} - {result['Link']}\")\n"
   ]
  }
 ],
 "metadata": {
  "kernelspec": {
   "display_name": "Python 3 (ipykernel)",
   "language": "python",
   "name": "python3"
  },
  "language_info": {
   "codemirror_mode": {
    "name": "ipython",
    "version": 3
   },
   "file_extension": ".py",
   "mimetype": "text/x-python",
   "name": "python",
   "nbconvert_exporter": "python",
   "pygments_lexer": "ipython3",
   "version": "3.12.7"
  }
 },
 "nbformat": 4,
 "nbformat_minor": 5
}
